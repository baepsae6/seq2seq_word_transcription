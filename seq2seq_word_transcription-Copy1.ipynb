{
 "cells": [
  {
   "cell_type": "code",
   "execution_count": 1,
   "metadata": {},
   "outputs": [],
   "source": [
    "import numpy as np\n",
    "import pandas as pd\n",
    "import torch\n",
    "import torch.nn as nn\n",
    "import torch.nn.functional as F\n",
    "import torch.optim as optim\n",
    "from torch.utils.data import Dataset, DataLoader\n",
    "from vocab import Vocab\n",
    "from collections import Counter\n",
    "from tqdm import tqdm\n",
    "import pickle\n",
    "import nltk\n",
    "device = torch.device('cuda')\n",
    "from sklearn.model_selection import train_test_split\n",
    "import time\n",
    "import random\n",
    "import math\n",
    "from data_utils import tokenize\n",
    "from IPython.display import clear_output\n",
    "import matplotlib.pyplot as plt\n",
    "%matplotlib inline\n"
   ]
  },
  {
   "cell_type": "code",
   "execution_count": 2,
   "metadata": {},
   "outputs": [],
   "source": [
    "def plot(epoch, step, train_losses):\n",
    "    clear_output()\n",
    "    plt.title(f'Epochs {epoch}, step {step}')\n",
    "    plt.plot(train_losses)\n",
    "    plt.show()"
   ]
  },
  {
   "cell_type": "code",
   "execution_count": 3,
   "metadata": {},
   "outputs": [],
   "source": [
    "data  = pd.read_csv('data/transcriptions/train.csv')"
   ]
  },
  {
   "cell_type": "code",
   "execution_count": 4,
   "metadata": {
    "scrolled": true
   },
   "outputs": [
    {
     "data": {
      "text/html": [
       "<div>\n",
       "<style scoped>\n",
       "    .dataframe tbody tr th:only-of-type {\n",
       "        vertical-align: middle;\n",
       "    }\n",
       "\n",
       "    .dataframe tbody tr th {\n",
       "        vertical-align: top;\n",
       "    }\n",
       "\n",
       "    .dataframe thead th {\n",
       "        text-align: right;\n",
       "    }\n",
       "</style>\n",
       "<table border=\"1\" class=\"dataframe\">\n",
       "  <thead>\n",
       "    <tr style=\"text-align: right;\">\n",
       "      <th></th>\n",
       "      <th>Id</th>\n",
       "      <th>Word</th>\n",
       "      <th>Transcription</th>\n",
       "    </tr>\n",
       "  </thead>\n",
       "  <tbody>\n",
       "    <tr>\n",
       "      <th>0</th>\n",
       "      <td>1</td>\n",
       "      <td>KNOXVILLE</td>\n",
       "      <td>N AA K S V IH L</td>\n",
       "    </tr>\n",
       "    <tr>\n",
       "      <th>1</th>\n",
       "      <td>2</td>\n",
       "      <td>MOVIEGOING</td>\n",
       "      <td>M UW V IY G OW IH NG</td>\n",
       "    </tr>\n",
       "    <tr>\n",
       "      <th>2</th>\n",
       "      <td>3</td>\n",
       "      <td>PHOTOSYNTHESIS</td>\n",
       "      <td>F OW T OW S IH N TH AH S IH S</td>\n",
       "    </tr>\n",
       "    <tr>\n",
       "      <th>3</th>\n",
       "      <td>4</td>\n",
       "      <td>DELIO</td>\n",
       "      <td>D EY L IY OW</td>\n",
       "    </tr>\n",
       "    <tr>\n",
       "      <th>4</th>\n",
       "      <td>5</td>\n",
       "      <td>SWIVELED</td>\n",
       "      <td>S W IH V AH L D</td>\n",
       "    </tr>\n",
       "  </tbody>\n",
       "</table>\n",
       "</div>"
      ],
      "text/plain": [
       "   Id            Word                  Transcription\n",
       "0   1       KNOXVILLE                N AA K S V IH L\n",
       "1   2      MOVIEGOING           M UW V IY G OW IH NG\n",
       "2   3  PHOTOSYNTHESIS  F OW T OW S IH N TH AH S IH S\n",
       "3   4           DELIO                   D EY L IY OW\n",
       "4   5        SWIVELED                S W IH V AH L D"
      ]
     },
     "execution_count": 4,
     "metadata": {},
     "output_type": "execute_result"
    }
   ],
   "source": [
    "data.head()"
   ]
  },
  {
   "cell_type": "code",
   "execution_count": 5,
   "metadata": {},
   "outputs": [],
   "source": [
    "def tokenize(word):\n",
    "    return [char for char in word if char!=' ']"
   ]
  },
  {
   "cell_type": "code",
   "execution_count": 6,
   "metadata": {},
   "outputs": [],
   "source": [
    "data['Word'] = data['Word'].apply(lambda row: tokenize(row) if type(row)!= float else 0)"
   ]
  },
  {
   "cell_type": "code",
   "execution_count": 7,
   "metadata": {},
   "outputs": [],
   "source": [
    "data = data[(data['Word']!=0)]"
   ]
  },
  {
   "cell_type": "code",
   "execution_count": 8,
   "metadata": {},
   "outputs": [],
   "source": [
    "data['Transcription'] = data['Transcription'].apply(lambda row: tokenize(row))"
   ]
  },
  {
   "cell_type": "code",
   "execution_count": 9,
   "metadata": {},
   "outputs": [],
   "source": [
    "for idx, i in enumerate(data['Word']):\n",
    "    for j in i: \n",
    "        if type(j) != str:\n",
    "            print(idx)"
   ]
  },
  {
   "cell_type": "code",
   "execution_count": 10,
   "metadata": {},
   "outputs": [],
   "source": [
    "class TranscriptionsDataset(Dataset):\n",
    "    def __init__(self, data):\n",
    "        self.data = data\n",
    "        self.t_vocab = pickle.load(open('transcription_vocab.pickle', 'rb'))\n",
    "        self.w_vocab = pickle.load(open('word_vocab.pickle', 'rb'))\n",
    "        self.word = self.data['Word'].values\n",
    "        self.transcription = self.data['Transcription'].values\n",
    "    \n",
    "    def __getitem__(self, idx):\n",
    "        word = self.word[idx]\n",
    "        transcription = self.transcription[idx]\n",
    "        word  = self.w_vocab.sent2idx(word)\n",
    "        transcription = self.t_vocab.sent2idx(transcription)\n",
    "        sample = {'word': word, 'transcription': transcription}\n",
    "        return sample\n",
    "    \n",
    "    def __len__(self):\n",
    "        return len(self.data)\n",
    "    \n",
    "    def collate_fn(self, dicts): \n",
    "        pad_token = self.t_vocab.token2idx('<pad>')\n",
    "        sos_token = self.t_vocab.token2idx('<sos>')\n",
    "        eos_token = self.t_vocab.token2idx('<eos>')\n",
    "        words_padded = []\n",
    "        corpus_size = len(dicts)\n",
    "        len_words_list = [len(d['word']) for d in dicts]\n",
    "        words_list = [d['word'] for d in dicts]\n",
    "        \n",
    "        len_transcriptions_list = [len(d['transcription']) for d in dicts]\n",
    "        transcriptions = [i['transcription'] for i in dicts]\n",
    "       \n",
    "        sorted_len_words, sorted_words, sorted_len_transcriptions, sorted_transcriptions = list(zip(*sorted(zip(\n",
    "            len_words_list, words_list, len_transcriptions_list, transcriptions),key=lambda x: x[0] ,reverse=True)))      \n",
    "        max_lens_word = max(sorted_len_words)\n",
    "        max_lens_transcription = max(sorted_len_transcriptions)\n",
    "\n",
    "        \n",
    "        words_padded = [sorted_words[i] + [pad_token] * (max_lens_word - sorted_len_words[i]) for i in range(corpus_size)]\n",
    "        sos_transcriptions_padded = [[sos_token] + sorted_transcriptions[i] + [pad_token] * (max_lens_transcription - sorted_len_transcriptions[i]) for i in range(corpus_size)]\n",
    "        eos_transcriptions_padded = [sorted_transcriptions[i] + [eos_token] + [pad_token] * (max_lens_transcription - sorted_len_transcriptions[i]) for i in range(corpus_size)]\n",
    "        words_padded = torch.LongTensor(words_padded)\n",
    "        \n",
    "        sos_transcriptions_padded = torch.LongTensor(sos_transcriptions_padded)\n",
    "        eos_transcriptions_padded = torch.LongTensor(eos_transcriptions_padded)\n",
    "        \n",
    "        return (words_padded, sos_transcriptions_padded, eos_transcriptions_padded)"
   ]
  },
  {
   "cell_type": "code",
   "execution_count": 11,
   "metadata": {},
   "outputs": [],
   "source": [
    "X_train, X_test = train_test_split(data, test_size=0.33, random_state=42)"
   ]
  },
  {
   "cell_type": "code",
   "execution_count": 12,
   "metadata": {},
   "outputs": [],
   "source": [
    "train_dataset = TranscriptionsDataset(X_train)\n",
    "test_dataset = TranscriptionsDataset(X_test)"
   ]
  },
  {
   "cell_type": "code",
   "execution_count": 13,
   "metadata": {},
   "outputs": [],
   "source": [
    "w_vocab = pickle.load(open('word_vocab.pickle', 'rb'))\n",
    "t_vocab = pickle.load(open('transcription_vocab.pickle', 'rb'))"
   ]
  },
  {
   "cell_type": "code",
   "execution_count": 14,
   "metadata": {},
   "outputs": [],
   "source": [
    "train_dataloader = DataLoader(train_dataset, batch_size=32,\n",
    "                            shuffle=True, collate_fn=train_dataset.collate_fn)\n",
    "test_dataloader = DataLoader(test_dataset, batch_size=32,\n",
    "                            shuffle=False, collate_fn=test_dataset.collate_fn)"
   ]
  },
  {
   "cell_type": "code",
   "execution_count": 15,
   "metadata": {},
   "outputs": [],
   "source": [
    "# for (words, t_e, t_s) in train_dataloader:\n",
    "#     print(words, t_e, t_s)\n",
    "#     break\n",
    "# print(words.shape)"
   ]
  },
  {
   "cell_type": "code",
   "execution_count": 16,
   "metadata": {},
   "outputs": [],
   "source": [
    "class Encoder(nn.Module):\n",
    "    def __init__(self,input_dim, enc_embed_dim, hidden_dim, n_layers):\n",
    "        super(Encoder,self).__init__()\n",
    "        self.input_dim = input_dim\n",
    "        self.enc_embed_dim = enc_embed_dim\n",
    "        self.hidden_dim = hidden_dim\n",
    "        self.n_layers = n_layers\n",
    "        self.embedding = nn.Embedding(input_dim, enc_embed_dim)\n",
    "        self.GRU = nn.GRU(enc_embed_dim, hidden_dim, n_layers, batch_first=True)\n",
    "    \n",
    "    def forward(self,input_seq):\n",
    "        embedded = self.embedding(input_seq) # input_seq = (5, seq_len) embedded = (5, seq_len, 256)\n",
    "        outputs, hidden = self.GRU(embedded) # outputs = (5, seq_len, 256)\n",
    "        return outputs, hidden\n",
    "    \n",
    "class AttentionDecoder(nn.Module):\n",
    "    def __init__(self, output_dim, dec_embed_dim, hidden_dim, n_layers):\n",
    "        super(AttentionDecoder, self).__init__()\n",
    "        self.output_dim = output_dim\n",
    "        self.dec_embed_dim = dec_embed_dim\n",
    "        self.hidden_dim = hidden_dim\n",
    "        self.n_layers = n_layers\n",
    "        \n",
    "        #layers\n",
    "        self.embedding = nn.Embedding(output_dim, dec_embed_dim)\n",
    "        self.GRU = nn.GRU(dec_embed_dim, hidden_dim, n_layers, batch_first=True)\n",
    "        self.attention_combined = nn.Linear(hidden_dim * 2 + dec_embed_dim, hidden_dim)\n",
    "        self.out = nn.Linear(hidden_dim*2, output_dim)\n",
    "        \n",
    "    def forward(self, input_step, encoder_outputs, hidden):\n",
    "        #input_step = input_step.unsqueeze(1)\n",
    "        # hidden = (batch_size, max_len1, hidden_size)\n",
    "        # encoder_outputs = (batch_size, max_len2, hidden_size)\n",
    "        # a = hidden x encoder_outputs\n",
    "        embedded = self.embedding(input_step)  # embedded = (32, seq_len, 256)\n",
    "        output, hidden = self.GRU(embedded, hidden)\n",
    "        #hidden = hidden.transpose(0,1)\n",
    "        a = torch.bmm(output, encoder_outputs.transpose(1,2)) # a = (batch_size, max_len1, max_len2)\n",
    "        \n",
    "        attn_weights = F.softmax(a, dim=0) \n",
    "        # context should be = (batch_size, max_len2, hidden_size)\n",
    "        # context = encoder_outputs x attn_weights\n",
    "        \n",
    "        context = torch.bmm(attn_weights, encoder_outputs) # (32, 5(max_len from hidden), 64)\n",
    "        #attention_combined = self.attention_combined(torch.cat((context, embedded), 2))\n",
    "        #print(attention_combined.shape)\n",
    "        output = torch.cat((context, output), 2)\n",
    "        prediction = self.out(output)\n",
    "        return prediction, hidden"
   ]
  },
  {
   "cell_type": "code",
   "execution_count": 17,
   "metadata": {},
   "outputs": [],
   "source": [
    "INPUT_DIM = len(w_vocab)\n",
    "OUTPUT_DIM = len(t_vocab)\n",
    "ENC_EMB_DIM = 100\n",
    "DEC_EMB_DIM = 100\n",
    "HID_DIM = 64\n",
    "N_LAYERS = 1"
   ]
  },
  {
   "cell_type": "code",
   "execution_count": 18,
   "metadata": {},
   "outputs": [],
   "source": [
    "enc = Encoder(INPUT_DIM, ENC_EMB_DIM, HID_DIM, N_LAYERS).to(device)\n",
    "dec = AttentionDecoder(OUTPUT_DIM, DEC_EMB_DIM, HID_DIM, N_LAYERS).to(device)"
   ]
  },
  {
   "cell_type": "code",
   "execution_count": 19,
   "metadata": {},
   "outputs": [
    {
     "name": "stdout",
     "output_type": "stream",
     "text": [
      "torch.Size([32, 5, 13])\n",
      "torch.Size([32, 64, 13])\n"
     ]
    }
   ],
   "source": [
    "# output = (32, 5, 8)\n",
    "e = torch.randn(32, 13, 64)\n",
    "h = torch.randn(32, 5, 64)\n",
    "e = e.transpose(1,2)\n",
    "res = torch.bmm(h, e)\n",
    "print(res.shape)\n",
    "print(e.shape)\n",
    "res2 = torch.bmm(res, e.transpose(1,2))"
   ]
  },
  {
   "cell_type": "code",
   "execution_count": 20,
   "metadata": {},
   "outputs": [],
   "source": [
    "class Seq2Seq(nn.Module):\n",
    "    def __init__(self, encoder, decoder):\n",
    "        super().__init__()\n",
    "        self.encoder = encoder\n",
    "        self.decoder = decoder\n",
    "        \n",
    "    def forward(self, word, transcription, teacher_forcing_ratio = 0.5):     \n",
    "        # transcription = (32, max_len)\n",
    "        batch_size = transcription.shape[0]\n",
    "        max_len = transcription.shape[1]\n",
    "        transcription_vocab_size = self.decoder.output_dim\n",
    "        \n",
    "        # tensor to store decoder outputs\n",
    "        outputs = torch.zeros(max_len, batch_size, transcription_vocab_size)\n",
    "        \n",
    "        # last hidden state of the encoder is used as the initial hidden state of the decoder\n",
    "        encoder_outputs, hidden = self.encoder(word) # hidden = (1, seq_len, 256)\n",
    "        # first input to the decoder is the <sos> tokens\n",
    "    \n",
    "        input = transcription\n",
    "        \n",
    "        # input.size() = (32)\n",
    "        output, hidden = self.decoder(input, encoder_outputs, hidden)\n",
    "#         for t in range(1, max_len):\n",
    "            \n",
    "#             output, hidden = self.decoder(input, hidden)         \n",
    "#             outputs[t] = output\n",
    "#             teacher_force = random.random() < teacher_forcing_ratio\n",
    "#             top1 = output.max(1)[1]\n",
    "#             input = (transcription[:,t] if teacher_force else top1)\n",
    "        \n",
    "        return output\n",
    "    \n",
    "    def predict(self, word):\n",
    "        \n",
    "        word = word.unsqueeze(0) # word = (1, 4) where 4 is len of word\n",
    "        \n",
    "        outputs, hidden = self.encoder(word)\n",
    "    \n",
    "        out_input = torch.LongTensor([2]).to(device) # input = (1,) where 1 is <sos> token\n",
    "        out_input = out_input.unsqueeze(0)\n",
    "        \n",
    "        preds = torch.LongTensor([[2]])\n",
    "        for _ in range(20):\n",
    "            output, hidden = self.decoder(preds, outputs, hidden) # output, hidden = (1, 1, 64)\n",
    "            #print(output) # \n",
    "            print(output.shape)\n",
    "            #print(torch.argmax(output)) # 10\n",
    "            output = torch.argmax(output, -1).unsqueeze(0)\n",
    "            # our_value = output.item()\n",
    "            print(output.shape)\n",
    "            last_token = output[0][0][-1].item()\n",
    "            if last_token == 3:\n",
    "                break\n",
    "            # preds.append(our_value)\n",
    "            \n",
    "            out_input = torch.LongTensor([last_token]).unsqueeze(0).to(device)\n",
    "            #print('output', out_input.shape)\n",
    "            #print('preds', preds.shape)\n",
    "            preds = torch.cat((preds, out_input), 1)\n",
    "        return preds"
   ]
  },
  {
   "cell_type": "code",
   "execution_count": 21,
   "metadata": {},
   "outputs": [],
   "source": [
    "model = Seq2Seq(enc, dec).to(device)"
   ]
  },
  {
   "cell_type": "code",
   "execution_count": 22,
   "metadata": {
    "scrolled": true
   },
   "outputs": [],
   "source": [
    "#outputs = model.predict(t)"
   ]
  },
  {
   "cell_type": "code",
   "execution_count": 23,
   "metadata": {},
   "outputs": [],
   "source": [
    "a = next(iter(train_dataloader))"
   ]
  },
  {
   "cell_type": "code",
   "execution_count": 24,
   "metadata": {},
   "outputs": [],
   "source": [
    "def generate_transcriptions(model, w_vocab, t_vocab, word):\n",
    "        model.eval()\n",
    "        \n",
    "        word_tokenized = tokenize(word)\n",
    "        word_tokenized = [w.upper() for w in word_tokenized]\n",
    "        word_indexed = [w_vocab.token2idx(w) for w in word_tokenized]\n",
    "        word_indexed = torch.LongTensor(word_indexed).to(device)\n",
    "        \n",
    "        outputs = model.predict(word_indexed)\n",
    "        transcriptions = [t_vocab.idx2token(t).lower() for t in outputs]\n",
    "        transcriptions = ' '.join(transcriptions)\n",
    "        return transcriptions"
   ]
  },
  {
   "cell_type": "code",
   "execution_count": 25,
   "metadata": {},
   "outputs": [
    {
     "data": {
      "text/plain": [
       "Seq2Seq(\n",
       "  (encoder): Encoder(\n",
       "    (embedding): Embedding(56, 100)\n",
       "    (GRU): GRU(100, 64, batch_first=True)\n",
       "  )\n",
       "  (decoder): AttentionDecoder(\n",
       "    (embedding): Embedding(56, 100)\n",
       "    (GRU): GRU(100, 64, batch_first=True)\n",
       "    (attention_combined): Linear(in_features=228, out_features=64, bias=True)\n",
       "    (out): Linear(in_features=128, out_features=56, bias=True)\n",
       "  )\n",
       ")"
      ]
     },
     "execution_count": 25,
     "metadata": {},
     "output_type": "execute_result"
    }
   ],
   "source": [
    "def init_weights(m):\n",
    "    for name, param in m.named_parameters():\n",
    "        nn.init.uniform_(param.data, -0.08, 0.08)\n",
    "        \n",
    "model.apply(init_weights)"
   ]
  },
  {
   "cell_type": "code",
   "execution_count": 26,
   "metadata": {},
   "outputs": [],
   "source": [
    "PAD_IDX = t_vocab.token2idx('<pad>')\n",
    "criterion = nn.CrossEntropyLoss(ignore_index = PAD_IDX)"
   ]
  },
  {
   "cell_type": "code",
   "execution_count": 27,
   "metadata": {},
   "outputs": [],
   "source": [
    "optimizer = optim.Adam(model.parameters())"
   ]
  },
  {
   "cell_type": "code",
   "execution_count": 28,
   "metadata": {},
   "outputs": [],
   "source": [
    "def train(model, train_dataloader, optimizer, criterion, clip, epoch, train_loss_list):\n",
    "    \n",
    "    model.train()\n",
    "    \n",
    "    epoch_loss = 0\n",
    "    \n",
    "    for batch_idx, (words, sos_transcriptions, eos_transcriptions) in enumerate(train_dataloader):\n",
    "        \n",
    "        words = words.to(device)\n",
    "        sos_transcriptions = sos_transcriptions.to(device)\n",
    "        eos_transcriptions = eos_transcriptions.to(device)\n",
    "        \n",
    "        optimizer.zero_grad()\n",
    "        \n",
    "        output = model(words, sos_transcriptions)\n",
    "              \n",
    "        #trg = [batch size, trg sent len]\n",
    "        #output = [trg sent len, batch size, output dim]\n",
    "        \n",
    "        output = output.view(-1, output.shape[-1])\n",
    "        eos_transcriptions = eos_transcriptions.view(-1)\n",
    "        \n",
    "        #trg = [(trg sent len - 1) * batch size]\n",
    "        #output = [(trg sent len - 1) * batch size, output dim]\n",
    "        loss = criterion(output.to(device), eos_transcriptions)\n",
    "        \n",
    "        loss.backward()\n",
    "        \n",
    "        torch.nn.utils.clip_grad_norm_(model.parameters(), clip)\n",
    "        \n",
    "        optimizer.step()\n",
    "        \n",
    "        epoch_loss += loss.item()\n",
    "        \n",
    "        train_loss_list.append(loss.item())\n",
    "        \n",
    "        if batch_idx % 50 == 0:\n",
    "            plot(epoch, batch_idx, train_loss_list)\n",
    "            \n",
    "    return epoch_loss / len(train_dataloader)"
   ]
  },
  {
   "cell_type": "code",
   "execution_count": 29,
   "metadata": {},
   "outputs": [],
   "source": [
    "def evaluate(model, test_dataloader, criterion):\n",
    "    \n",
    "    model.eval()\n",
    "    \n",
    "    epoch_loss = 0\n",
    "    \n",
    "    with torch.no_grad():\n",
    "    \n",
    "        for (words, sos_transcriptions, eos_transcriptions) in test_dataloader:\n",
    "            words = words.to(device)\n",
    "            sos_transcriptions = sos_transcriptions.to(device)\n",
    "            eos_transcriptions = eos_transcriptions.to(device)\n",
    "\n",
    "            output = model(words, sos_transcriptions, 0) #turn off teacher forcing\n",
    "\n",
    "            # trg = [batch size, trg sent len,]\n",
    "            # output = [trg sent len, batch size, output dim]\n",
    "            \n",
    "            output = output.view(-1, output.shape[-1])\n",
    "            eos_transcriptions = eos_transcriptions.view(-1)\n",
    "            \n",
    "            # trg = [(trg sent len - 1) * batch size]\n",
    "            # output = [(trg sent len - 1) * batch size, output dim]\n",
    "            output = output.to(device)\n",
    "            loss = criterion(output, eos_transcriptions)\n",
    "            \n",
    "            epoch_loss += loss.item()\n",
    "                                            \n",
    "    return epoch_loss / len(test_dataloader)"
   ]
  },
  {
   "cell_type": "code",
   "execution_count": 30,
   "metadata": {},
   "outputs": [],
   "source": [
    "def epoch_time(start_time, end_time):\n",
    "    elapsed_time = end_time - start_time\n",
    "    elapsed_mins = int(elapsed_time / 60)\n",
    "    elapsed_secs = int(elapsed_time - (elapsed_mins * 60))\n",
    "    return elapsed_mins, elapsed_secs"
   ]
  },
  {
   "cell_type": "code",
   "execution_count": 31,
   "metadata": {
    "scrolled": true
   },
   "outputs": [
    {
     "data": {
      "image/png": "[encoded data removed]",
      "text/plain": [
       "<Figure size 432x288 with 1 Axes>"
      ]
     },
     "metadata": {
      "needs_background": "light"
     },
     "output_type": "display_data"
    },
    {
     "ename": "RuntimeError",
     "evalue": "Expected object of backend CUDA but got backend CPU for argument #3 'index'",
     "output_type": "error",
     "traceback": [
      "\u001b[0;31m---------------------------------------------------------------------------\u001b[0m",
      "\u001b[0;31mRuntimeError\u001b[0m                              Traceback (most recent call last)",
      "\u001b[0;32m<ipython-input-31-2f8b8796717e>\u001b[0m in \u001b[0;36m<module>\u001b[0;34m\u001b[0m\n\u001b[1;32m     22\u001b[0m         \u001b[0mtorch\u001b[0m\u001b[0;34m.\u001b[0m\u001b[0msave\u001b[0m\u001b[0;34m(\u001b[0m\u001b[0mmodel\u001b[0m\u001b[0;34m.\u001b[0m\u001b[0mdecoder\u001b[0m\u001b[0;34m.\u001b[0m\u001b[0mstate_dict\u001b[0m\u001b[0;34m(\u001b[0m\u001b[0;34m)\u001b[0m\u001b[0;34m,\u001b[0m \u001b[0;34m'checkpoint_dec.pth'\u001b[0m\u001b[0;34m)\u001b[0m\u001b[0;34m\u001b[0m\u001b[0;34m\u001b[0m\u001b[0m\n\u001b[1;32m     23\u001b[0m \u001b[0;34m\u001b[0m\u001b[0m\n\u001b[0;32m---> 24\u001b[0;31m     \u001b[0mgenerations\u001b[0m \u001b[0;34m=\u001b[0m \u001b[0mgenerate_transcriptions\u001b[0m\u001b[0;34m(\u001b[0m\u001b[0mmodel\u001b[0m\u001b[0;34m,\u001b[0m \u001b[0mw_vocab\u001b[0m\u001b[0;34m,\u001b[0m \u001b[0mt_vocab\u001b[0m\u001b[0;34m,\u001b[0m \u001b[0;34m'apple'\u001b[0m\u001b[0;34m)\u001b[0m\u001b[0;34m\u001b[0m\u001b[0;34m\u001b[0m\u001b[0m\n\u001b[0m\u001b[1;32m     25\u001b[0m \u001b[0;34m\u001b[0m\u001b[0m\n\u001b[1;32m     26\u001b[0m     \u001b[0;31m# print(generations)\u001b[0m\u001b[0;34m\u001b[0m\u001b[0;34m\u001b[0m\u001b[0;34m\u001b[0m\u001b[0m\n",
      "\u001b[0;32m<ipython-input-24-48d76cb84b43>\u001b[0m in \u001b[0;36mgenerate_transcriptions\u001b[0;34m(model, w_vocab, t_vocab, word)\u001b[0m\n\u001b[1;32m      7\u001b[0m         \u001b[0mword_indexed\u001b[0m \u001b[0;34m=\u001b[0m \u001b[0mtorch\u001b[0m\u001b[0;34m.\u001b[0m\u001b[0mLongTensor\u001b[0m\u001b[0;34m(\u001b[0m\u001b[0mword_indexed\u001b[0m\u001b[0;34m)\u001b[0m\u001b[0;34m.\u001b[0m\u001b[0mto\u001b[0m\u001b[0;34m(\u001b[0m\u001b[0mdevice\u001b[0m\u001b[0;34m)\u001b[0m\u001b[0;34m\u001b[0m\u001b[0;34m\u001b[0m\u001b[0m\n\u001b[1;32m      8\u001b[0m \u001b[0;34m\u001b[0m\u001b[0m\n\u001b[0;32m----> 9\u001b[0;31m         \u001b[0moutputs\u001b[0m \u001b[0;34m=\u001b[0m \u001b[0mmodel\u001b[0m\u001b[0;34m.\u001b[0m\u001b[0mpredict\u001b[0m\u001b[0;34m(\u001b[0m\u001b[0mword_indexed\u001b[0m\u001b[0;34m)\u001b[0m\u001b[0;34m\u001b[0m\u001b[0;34m\u001b[0m\u001b[0m\n\u001b[0m\u001b[1;32m     10\u001b[0m         \u001b[0mtranscriptions\u001b[0m \u001b[0;34m=\u001b[0m \u001b[0;34m[\u001b[0m\u001b[0mt_vocab\u001b[0m\u001b[0;34m.\u001b[0m\u001b[0midx2token\u001b[0m\u001b[0;34m(\u001b[0m\u001b[0mt\u001b[0m\u001b[0;34m)\u001b[0m\u001b[0;34m.\u001b[0m\u001b[0mlower\u001b[0m\u001b[0;34m(\u001b[0m\u001b[0;34m)\u001b[0m \u001b[0;32mfor\u001b[0m \u001b[0mt\u001b[0m \u001b[0;32min\u001b[0m \u001b[0moutputs\u001b[0m\u001b[0;34m]\u001b[0m\u001b[0;34m\u001b[0m\u001b[0;34m\u001b[0m\u001b[0m\n\u001b[1;32m     11\u001b[0m         \u001b[0mtranscriptions\u001b[0m \u001b[0;34m=\u001b[0m \u001b[0;34m' '\u001b[0m\u001b[0;34m.\u001b[0m\u001b[0mjoin\u001b[0m\u001b[0;34m(\u001b[0m\u001b[0mtranscriptions\u001b[0m\u001b[0;34m)\u001b[0m\u001b[0;34m\u001b[0m\u001b[0;34m\u001b[0m\u001b[0m\n",
      "\u001b[0;32m<ipython-input-20-d1d764ec33dd>\u001b[0m in \u001b[0;36mpredict\u001b[0;34m(self, word)\u001b[0m\n\u001b[1;32m     43\u001b[0m         \u001b[0mpreds\u001b[0m \u001b[0;34m=\u001b[0m \u001b[0mtorch\u001b[0m\u001b[0;34m.\u001b[0m\u001b[0mLongTensor\u001b[0m\u001b[0;34m(\u001b[0m\u001b[0;34m[\u001b[0m\u001b[0;34m[\u001b[0m\u001b[0;36m2\u001b[0m\u001b[0;34m]\u001b[0m\u001b[0;34m]\u001b[0m\u001b[0;34m)\u001b[0m\u001b[0;34m\u001b[0m\u001b[0;34m\u001b[0m\u001b[0m\n\u001b[1;32m     44\u001b[0m         \u001b[0;32mfor\u001b[0m \u001b[0m_\u001b[0m \u001b[0;32min\u001b[0m \u001b[0mrange\u001b[0m\u001b[0;34m(\u001b[0m\u001b[0;36m20\u001b[0m\u001b[0;34m)\u001b[0m\u001b[0;34m:\u001b[0m\u001b[0;34m\u001b[0m\u001b[0;34m\u001b[0m\u001b[0m\n\u001b[0;32m---> 45\u001b[0;31m             \u001b[0moutput\u001b[0m\u001b[0;34m,\u001b[0m \u001b[0mhidden\u001b[0m \u001b[0;34m=\u001b[0m \u001b[0mself\u001b[0m\u001b[0;34m.\u001b[0m\u001b[0mdecoder\u001b[0m\u001b[0;34m(\u001b[0m\u001b[0mpreds\u001b[0m\u001b[0;34m,\u001b[0m \u001b[0moutputs\u001b[0m\u001b[0;34m,\u001b[0m \u001b[0mhidden\u001b[0m\u001b[0;34m)\u001b[0m \u001b[0;31m# output, hidden = (1, 1, 64)\u001b[0m\u001b[0;34m\u001b[0m\u001b[0;34m\u001b[0m\u001b[0m\n\u001b[0m\u001b[1;32m     46\u001b[0m             \u001b[0;31m#print(output) #\u001b[0m\u001b[0;34m\u001b[0m\u001b[0;34m\u001b[0m\u001b[0;34m\u001b[0m\u001b[0m\n\u001b[1;32m     47\u001b[0m             \u001b[0mprint\u001b[0m\u001b[0;34m(\u001b[0m\u001b[0moutput\u001b[0m\u001b[0;34m.\u001b[0m\u001b[0mshape\u001b[0m\u001b[0;34m)\u001b[0m\u001b[0;34m\u001b[0m\u001b[0;34m\u001b[0m\u001b[0m\n",
      "\u001b[0;32m~/anaconda3/lib/python3.7/site-packages/torch/nn/modules/module.py\u001b[0m in \u001b[0;36m__call__\u001b[0;34m(self, *input, **kwargs)\u001b[0m\n\u001b[1;32m    491\u001b[0m             \u001b[0mresult\u001b[0m \u001b[0;34m=\u001b[0m \u001b[0mself\u001b[0m\u001b[0;34m.\u001b[0m\u001b[0m_slow_forward\u001b[0m\u001b[0;34m(\u001b[0m\u001b[0;34m*\u001b[0m\u001b[0minput\u001b[0m\u001b[0;34m,\u001b[0m \u001b[0;34m**\u001b[0m\u001b[0mkwargs\u001b[0m\u001b[0;34m)\u001b[0m\u001b[0;34m\u001b[0m\u001b[0;34m\u001b[0m\u001b[0m\n\u001b[1;32m    492\u001b[0m         \u001b[0;32melse\u001b[0m\u001b[0;34m:\u001b[0m\u001b[0;34m\u001b[0m\u001b[0;34m\u001b[0m\u001b[0m\n\u001b[0;32m--> 493\u001b[0;31m             \u001b[0mresult\u001b[0m \u001b[0;34m=\u001b[0m \u001b[0mself\u001b[0m\u001b[0;34m.\u001b[0m\u001b[0mforward\u001b[0m\u001b[0;34m(\u001b[0m\u001b[0;34m*\u001b[0m\u001b[0minput\u001b[0m\u001b[0;34m,\u001b[0m \u001b[0;34m**\u001b[0m\u001b[0mkwargs\u001b[0m\u001b[0;34m)\u001b[0m\u001b[0;34m\u001b[0m\u001b[0;34m\u001b[0m\u001b[0m\n\u001b[0m\u001b[1;32m    494\u001b[0m         \u001b[0;32mfor\u001b[0m \u001b[0mhook\u001b[0m \u001b[0;32min\u001b[0m \u001b[0mself\u001b[0m\u001b[0;34m.\u001b[0m\u001b[0m_forward_hooks\u001b[0m\u001b[0;34m.\u001b[0m\u001b[0mvalues\u001b[0m\u001b[0;34m(\u001b[0m\u001b[0;34m)\u001b[0m\u001b[0;34m:\u001b[0m\u001b[0;34m\u001b[0m\u001b[0;34m\u001b[0m\u001b[0m\n\u001b[1;32m    495\u001b[0m             \u001b[0mhook_result\u001b[0m \u001b[0;34m=\u001b[0m \u001b[0mhook\u001b[0m\u001b[0;34m(\u001b[0m\u001b[0mself\u001b[0m\u001b[0;34m,\u001b[0m \u001b[0minput\u001b[0m\u001b[0;34m,\u001b[0m \u001b[0mresult\u001b[0m\u001b[0;34m)\u001b[0m\u001b[0;34m\u001b[0m\u001b[0;34m\u001b[0m\u001b[0m\n",
      "\u001b[0;32m<ipython-input-16-dbf7693c5062>\u001b[0m in \u001b[0;36mforward\u001b[0;34m(self, input_step, encoder_outputs, hidden)\u001b[0m\n\u001b[1;32m     33\u001b[0m         \u001b[0;31m# encoder_outputs = (batch_size, max_len2, hidden_size)\u001b[0m\u001b[0;34m\u001b[0m\u001b[0;34m\u001b[0m\u001b[0;34m\u001b[0m\u001b[0m\n\u001b[1;32m     34\u001b[0m         \u001b[0;31m# a = hidden x encoder_outputs\u001b[0m\u001b[0;34m\u001b[0m\u001b[0;34m\u001b[0m\u001b[0;34m\u001b[0m\u001b[0m\n\u001b[0;32m---> 35\u001b[0;31m         \u001b[0membedded\u001b[0m \u001b[0;34m=\u001b[0m \u001b[0mself\u001b[0m\u001b[0;34m.\u001b[0m\u001b[0membedding\u001b[0m\u001b[0;34m(\u001b[0m\u001b[0minput_step\u001b[0m\u001b[0;34m)\u001b[0m  \u001b[0;31m# embedded = (32, seq_len, 256)\u001b[0m\u001b[0;34m\u001b[0m\u001b[0;34m\u001b[0m\u001b[0m\n\u001b[0m\u001b[1;32m     36\u001b[0m         \u001b[0moutput\u001b[0m\u001b[0;34m,\u001b[0m \u001b[0mhidden\u001b[0m \u001b[0;34m=\u001b[0m \u001b[0mself\u001b[0m\u001b[0;34m.\u001b[0m\u001b[0mGRU\u001b[0m\u001b[0;34m(\u001b[0m\u001b[0membedded\u001b[0m\u001b[0;34m,\u001b[0m \u001b[0mhidden\u001b[0m\u001b[0;34m)\u001b[0m\u001b[0;34m\u001b[0m\u001b[0;34m\u001b[0m\u001b[0m\n\u001b[1;32m     37\u001b[0m         \u001b[0;31m#hidden = hidden.transpose(0,1)\u001b[0m\u001b[0;34m\u001b[0m\u001b[0;34m\u001b[0m\u001b[0;34m\u001b[0m\u001b[0m\n",
      "\u001b[0;32m~/anaconda3/lib/python3.7/site-packages/torch/nn/modules/module.py\u001b[0m in \u001b[0;36m__call__\u001b[0;34m(self, *input, **kwargs)\u001b[0m\n\u001b[1;32m    491\u001b[0m             \u001b[0mresult\u001b[0m \u001b[0;34m=\u001b[0m \u001b[0mself\u001b[0m\u001b[0;34m.\u001b[0m\u001b[0m_slow_forward\u001b[0m\u001b[0;34m(\u001b[0m\u001b[0;34m*\u001b[0m\u001b[0minput\u001b[0m\u001b[0;34m,\u001b[0m \u001b[0;34m**\u001b[0m\u001b[0mkwargs\u001b[0m\u001b[0;34m)\u001b[0m\u001b[0;34m\u001b[0m\u001b[0;34m\u001b[0m\u001b[0m\n\u001b[1;32m    492\u001b[0m         \u001b[0;32melse\u001b[0m\u001b[0;34m:\u001b[0m\u001b[0;34m\u001b[0m\u001b[0;34m\u001b[0m\u001b[0m\n\u001b[0;32m--> 493\u001b[0;31m             \u001b[0mresult\u001b[0m \u001b[0;34m=\u001b[0m \u001b[0mself\u001b[0m\u001b[0;34m.\u001b[0m\u001b[0mforward\u001b[0m\u001b[0;34m(\u001b[0m\u001b[0;34m*\u001b[0m\u001b[0minput\u001b[0m\u001b[0;34m,\u001b[0m \u001b[0;34m**\u001b[0m\u001b[0mkwargs\u001b[0m\u001b[0;34m)\u001b[0m\u001b[0;34m\u001b[0m\u001b[0;34m\u001b[0m\u001b[0m\n\u001b[0m\u001b[1;32m    494\u001b[0m         \u001b[0;32mfor\u001b[0m \u001b[0mhook\u001b[0m \u001b[0;32min\u001b[0m \u001b[0mself\u001b[0m\u001b[0;34m.\u001b[0m\u001b[0m_forward_hooks\u001b[0m\u001b[0;34m.\u001b[0m\u001b[0mvalues\u001b[0m\u001b[0;34m(\u001b[0m\u001b[0;34m)\u001b[0m\u001b[0;34m:\u001b[0m\u001b[0;34m\u001b[0m\u001b[0;34m\u001b[0m\u001b[0m\n\u001b[1;32m    495\u001b[0m             \u001b[0mhook_result\u001b[0m \u001b[0;34m=\u001b[0m \u001b[0mhook\u001b[0m\u001b[0;34m(\u001b[0m\u001b[0mself\u001b[0m\u001b[0;34m,\u001b[0m \u001b[0minput\u001b[0m\u001b[0;34m,\u001b[0m \u001b[0mresult\u001b[0m\u001b[0;34m)\u001b[0m\u001b[0;34m\u001b[0m\u001b[0;34m\u001b[0m\u001b[0m\n",
      "\u001b[0;32m~/anaconda3/lib/python3.7/site-packages/torch/nn/modules/sparse.py\u001b[0m in \u001b[0;36mforward\u001b[0;34m(self, input)\u001b[0m\n\u001b[1;32m    115\u001b[0m         return F.embedding(\n\u001b[1;32m    116\u001b[0m             \u001b[0minput\u001b[0m\u001b[0;34m,\u001b[0m \u001b[0mself\u001b[0m\u001b[0;34m.\u001b[0m\u001b[0mweight\u001b[0m\u001b[0;34m,\u001b[0m \u001b[0mself\u001b[0m\u001b[0;34m.\u001b[0m\u001b[0mpadding_idx\u001b[0m\u001b[0;34m,\u001b[0m \u001b[0mself\u001b[0m\u001b[0;34m.\u001b[0m\u001b[0mmax_norm\u001b[0m\u001b[0;34m,\u001b[0m\u001b[0;34m\u001b[0m\u001b[0;34m\u001b[0m\u001b[0m\n\u001b[0;32m--> 117\u001b[0;31m             self.norm_type, self.scale_grad_by_freq, self.sparse)\n\u001b[0m\u001b[1;32m    118\u001b[0m \u001b[0;34m\u001b[0m\u001b[0m\n\u001b[1;32m    119\u001b[0m     \u001b[0;32mdef\u001b[0m \u001b[0mextra_repr\u001b[0m\u001b[0;34m(\u001b[0m\u001b[0mself\u001b[0m\u001b[0;34m)\u001b[0m\u001b[0;34m:\u001b[0m\u001b[0;34m\u001b[0m\u001b[0;34m\u001b[0m\u001b[0m\n",
      "\u001b[0;32m~/anaconda3/lib/python3.7/site-packages/torch/nn/functional.py\u001b[0m in \u001b[0;36membedding\u001b[0;34m(input, weight, padding_idx, max_norm, norm_type, scale_grad_by_freq, sparse)\u001b[0m\n\u001b[1;32m   1504\u001b[0m         \u001b[0;31m# remove once script supports set_grad_enabled\u001b[0m\u001b[0;34m\u001b[0m\u001b[0;34m\u001b[0m\u001b[0;34m\u001b[0m\u001b[0m\n\u001b[1;32m   1505\u001b[0m         \u001b[0m_no_grad_embedding_renorm_\u001b[0m\u001b[0;34m(\u001b[0m\u001b[0mweight\u001b[0m\u001b[0;34m,\u001b[0m \u001b[0minput\u001b[0m\u001b[0;34m,\u001b[0m \u001b[0mmax_norm\u001b[0m\u001b[0;34m,\u001b[0m \u001b[0mnorm_type\u001b[0m\u001b[0;34m)\u001b[0m\u001b[0;34m\u001b[0m\u001b[0;34m\u001b[0m\u001b[0m\n\u001b[0;32m-> 1506\u001b[0;31m     \u001b[0;32mreturn\u001b[0m \u001b[0mtorch\u001b[0m\u001b[0;34m.\u001b[0m\u001b[0membedding\u001b[0m\u001b[0;34m(\u001b[0m\u001b[0mweight\u001b[0m\u001b[0;34m,\u001b[0m \u001b[0minput\u001b[0m\u001b[0;34m,\u001b[0m \u001b[0mpadding_idx\u001b[0m\u001b[0;34m,\u001b[0m \u001b[0mscale_grad_by_freq\u001b[0m\u001b[0;34m,\u001b[0m \u001b[0msparse\u001b[0m\u001b[0;34m)\u001b[0m\u001b[0;34m\u001b[0m\u001b[0;34m\u001b[0m\u001b[0m\n\u001b[0m\u001b[1;32m   1507\u001b[0m \u001b[0;34m\u001b[0m\u001b[0m\n\u001b[1;32m   1508\u001b[0m \u001b[0;34m\u001b[0m\u001b[0m\n",
      "\u001b[0;31mRuntimeError\u001b[0m: Expected object of backend CUDA but got backend CPU for argument #3 'index'"
     ]
    }
   ],
   "source": [
    "N_EPOCHS = 20\n",
    "CLIP = 1\n",
    "\n",
    "best_test_loss = float('inf')\n",
    "train_loss_list = []\n",
    "for epoch in range(1, N_EPOCHS):\n",
    "    \n",
    "    start_time = time.time()\n",
    "    \n",
    "    train_loss = train(model, train_dataloader, optimizer, criterion, CLIP, epoch, train_loss_list)\n",
    "    \n",
    "    test_loss = evaluate(model, test_dataloader, criterion)\n",
    "    \n",
    "    end_time = time.time()\n",
    "    \n",
    "    epoch_mins, epoch_secs = epoch_time(start_time, end_time)\n",
    "    \n",
    "    if test_loss < best_test_loss:\n",
    "        best_test_loss = test_loss\n",
    "        torch.save(model.state_dict(), 'checkpoint.pth')\n",
    "        torch.save(model.encoder.state_dict(), 'checkpoint_enc.pth')\n",
    "        torch.save(model.decoder.state_dict(), 'checkpoint_dec.pth')\n",
    "    \n",
    "    generations = generate_transcriptions(model, w_vocab, t_vocab, 'apple')\n",
    "    \n",
    "    # print(generations)\n",
    "    print(f'Epoch: {epoch+1:02} | Time: {epoch_mins}m {epoch_secs}s')\n",
    "    print(f'\\tTrain Loss: {train_loss:.3f} | Train PPL: {math.exp(train_loss):7.3f}')\n",
    "    print(f'\\t Val. Loss: {test_loss:.3f} |  Val. PPL: {math.exp(test_loss):7.3f}')"
   ]
  },
  {
   "cell_type": "code",
   "execution_count": null,
   "metadata": {},
   "outputs": [],
   "source": [
    "enc = Encoder(INPUT_DIM, ENC_EMB_DIM, HID_DIM, N_LAYERS)\n",
    "dec = AttentionDecoder(OUTPUT_DIM, DEC_EMB_DIM, HID_DIM, N_LAYERS)"
   ]
  },
  {
   "cell_type": "code",
   "execution_count": null,
   "metadata": {},
   "outputs": [],
   "source": [
    "class Generator(object):\n",
    "    def __init__(self):\n",
    "        self.encoder = enc\n",
    "        self.encoder.load_state_dict(torch.load('checkpoint_enc.pth'))\n",
    "        self.decoder = dec\n",
    "        self.decoder.load_state_dict(torch.load('checkpoint_dec.pth'))\n",
    "        self.model = model\n",
    "        self.model.load_state_dict(torch.load('checkpoint.pth'))\n",
    "        self.w_vocab = w_vocab\n",
    "        self.t_vocab = t_vocab\n",
    "        \n",
    "    def generate_transcriptions(self, word):\n",
    "        \n",
    "        self.model.eval()\n",
    "        word_tokenized = tokenize(word)\n",
    "        word_tokenized = [w.upper() for w in word_tokenized]\n",
    "        word_indexed = [w_vocab.token2idx(w) for w in word_tokenized]\n",
    "        word_indexed = torch.LongTensor(word_indexed).to(device)\n",
    "        \n",
    "        outputs = model.predict(word_indexed)\n",
    "        transcriptions = [t_vocab.idx2token(t) for t in outputs]\n",
    "        return outputs"
   ]
  },
  {
   "cell_type": "code",
   "execution_count": null,
   "metadata": {},
   "outputs": [],
   "source": [
    "g = Generator()"
   ]
  },
  {
   "cell_type": "code",
   "execution_count": null,
   "metadata": {},
   "outputs": [],
   "source": [
    "t = g.generate_transcriptions('bottle')"
   ]
  },
  {
   "cell_type": "code",
   "execution_count": null,
   "metadata": {},
   "outputs": [],
   "source": [
    "tr = []\n",
    "for i in t:\n",
    "    j = t_vocab.idx2token(i)\n",
    "    tr.append(j.lower())"
   ]
  },
  {
   "cell_type": "code",
   "execution_count": null,
   "metadata": {},
   "outputs": [],
   "source": [
    "t"
   ]
  },
  {
   "cell_type": "code",
   "execution_count": null,
   "metadata": {},
   "outputs": [],
   "source": []
  }
 ],
 "metadata": {
  "kernelspec": {
   "display_name": "Python 3",
   "language": "python",
   "name": "python3"
  },
  "language_info": {
   "codemirror_mode": {
    "name": "ipython",
    "version": 3
   },
   "file_extension": ".py",
   "mimetype": "text/x-python",
   "name": "python",
   "nbconvert_exporter": "python",
   "pygments_lexer": "ipython3",
   "version": "3.7.3"
  }
 },
 "nbformat": 4,
 "nbformat_minor": 2
}
